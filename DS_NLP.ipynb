{
 "cells": [
  {
   "cell_type": "markdown",
   "metadata": {},
   "source": [
    "# 1. Подготовка"
   ]
  },
  {
   "cell_type": "code",
   "execution_count": 1,
   "metadata": {},
   "outputs": [],
   "source": [
    "from transformers import BertTokenizer, BertModel\n",
    "import pandas as pd\n",
    "import numpy as np\n",
    "import torch\n",
    "import time\n",
    "import os\n",
    "\n",
    "from pymystem3 import Mystem\n",
    "from tqdm import notebook\n",
    "import re\n",
    "from sklearn.linear_model import LogisticRegression\n",
    "from sklearn.model_selection import train_test_split\n",
    "from sklearn.metrics import f1_score\n",
    "from sklearn.metrics import confusion_matrix\n",
    "\n",
    "import nltk\n",
    "from nltk.stem import WordNetLemmatizer\n",
    "from nltk.corpus import stopwords as nltk_stopwords\n",
    "from sklearn.feature_extraction.text import TfidfVectorizer\n",
    "from sklearn.feature_extraction.text import CountVectorizer\n",
    "\n",
    "SEED = 777"
   ]
  },
  {
   "cell_type": "code",
   "execution_count": 2,
   "metadata": {
    "scrolled": true
   },
   "outputs": [
    {
     "name": "stdout",
     "output_type": "stream",
     "text": [
      "<class 'pandas.core.frame.DataFrame'>\n",
      "RangeIndex: 159571 entries, 0 to 159570\n",
      "Data columns (total 2 columns):\n",
      "text     159571 non-null object\n",
      "toxic    159571 non-null int64\n",
      "dtypes: int64(1), object(1)\n",
      "memory usage: 2.4+ MB\n",
      "None\n",
      "\n",
      "Доля токсичных сообщений 10.17%\n"
     ]
    },
    {
     "data": {
      "text/html": [
       "<div>\n",
       "<style scoped>\n",
       "    .dataframe tbody tr th:only-of-type {\n",
       "        vertical-align: middle;\n",
       "    }\n",
       "\n",
       "    .dataframe tbody tr th {\n",
       "        vertical-align: top;\n",
       "    }\n",
       "\n",
       "    .dataframe thead th {\n",
       "        text-align: right;\n",
       "    }\n",
       "</style>\n",
       "<table border=\"1\" class=\"dataframe\">\n",
       "  <thead>\n",
       "    <tr style=\"text-align: right;\">\n",
       "      <th></th>\n",
       "      <th>text</th>\n",
       "      <th>toxic</th>\n",
       "    </tr>\n",
       "  </thead>\n",
       "  <tbody>\n",
       "    <tr>\n",
       "      <td>0</td>\n",
       "      <td>Explanation\\nWhy the edits made under my usern...</td>\n",
       "      <td>0</td>\n",
       "    </tr>\n",
       "    <tr>\n",
       "      <td>1</td>\n",
       "      <td>D'aww! He matches this background colour I'm s...</td>\n",
       "      <td>0</td>\n",
       "    </tr>\n",
       "    <tr>\n",
       "      <td>2</td>\n",
       "      <td>Hey man, I'm really not trying to edit war. It...</td>\n",
       "      <td>0</td>\n",
       "    </tr>\n",
       "    <tr>\n",
       "      <td>3</td>\n",
       "      <td>\"\\nMore\\nI can't make any real suggestions on ...</td>\n",
       "      <td>0</td>\n",
       "    </tr>\n",
       "    <tr>\n",
       "      <td>4</td>\n",
       "      <td>You, sir, are my hero. Any chance you remember...</td>\n",
       "      <td>0</td>\n",
       "    </tr>\n",
       "  </tbody>\n",
       "</table>\n",
       "</div>"
      ],
      "text/plain": [
       "                                                text  toxic\n",
       "0  Explanation\\nWhy the edits made under my usern...      0\n",
       "1  D'aww! He matches this background colour I'm s...      0\n",
       "2  Hey man, I'm really not trying to edit war. It...      0\n",
       "3  \"\\nMore\\nI can't make any real suggestions on ...      0\n",
       "4  You, sir, are my hero. Any chance you remember...      0"
      ]
     },
     "metadata": {},
     "output_type": "display_data"
    }
   ],
   "source": [
    "# Откроем и взглянем на датасет\n",
    "df = pd.read_csv('/datasets/toxic_comments.csv')\n",
    "print(df.info())\n",
    "print('\\nДоля токсичных сообщений {:2.2%}'.format(df['toxic'].sum() / df['toxic'].count()))\n",
    "display(df.head())"
   ]
  },
  {
   "cell_type": "markdown",
   "metadata": {},
   "source": [
    "С помощью регулярных выражений почистим датасет. Удалим html теги, http ссылки, вычистим лишние символы."
   ]
  },
  {
   "cell_type": "code",
   "execution_count": 3,
   "metadata": {},
   "outputs": [
    {
     "name": "stdout",
     "output_type": "stream",
     "text": [
      "html теги удалены\n",
      "http ссылки удалены\n",
      "Удалены лишние символы\n",
      "Сгруппированы символы встречающиеся более двух раз\n",
      "Удалены отдельно стоящие символы встречающиеся один или два раза сподряд(кроме 'a' и 'I')\n",
      "Удалены отдельно стоящие символы 'aa', 'AA', 'ii', 'II'\n"
     ]
    }
   ],
   "source": [
    "# Удалим html теги\n",
    "df['text_reg'] = df['text'].apply(\n",
    "    lambda x: \" \".join(re.sub(r'<[^>]+>', ' ', x).split()))\n",
    "print('html теги удалены')\n",
    "\n",
    "# Удалим http ссылки\n",
    "df['text_reg'] = df['text'].apply(\n",
    "    lambda x: \" \".join(re.sub(r'(?i)\\b((?:http?://|www\\d{0,3}[.])(.)+\\s)', ' ', x).split()))\n",
    "print('http ссылки удалены')\n",
    "\n",
    "# Оставим только буквы\n",
    "df['text_reg'] = df['text_reg'].apply(\n",
    "    lambda x: \" \".join(re.sub(r'[^a-zA-Z\\',.!?]', ' ', x).split()))\n",
    "print('Удалены лишние символы')\n",
    "\n",
    "# Сгруппируем повторяющиеся символы всречающиеся более двух раз\n",
    "df['text_reg'] = df['text_reg'].apply(\n",
    "    lambda x: \" \".join(re.compile(r'(.)\\1{2,}').sub(r'\\1', x).split()))\n",
    "print('Сгруппированы символы встречающиеся более двух раз')\n",
    "\n",
    "# Удалим отдельно стоящие символы встречающиеся один или два раза сподряд(кроме артикля 'a' и местоимения 'I')\n",
    "df['text_reg'] = df['text_reg'].apply(\n",
    "    lambda x: \" \".join(re.sub(r'\\b([^aAiI])\\1{,2}\\b', ' ', x).split()))\n",
    "print(\"Удалены отдельно стоящие символы встречающиеся один или два раза сподряд(кроме 'a' и 'I')\")\n",
    "\n",
    "# Удалим отдельно стоящие символы 'aa', 'AA', 'ii', 'II'\n",
    "df['text_reg'] = df['text_reg'].apply(\n",
    "    lambda x: \" \".join(re.sub(r'\\b([aAiI])\\1+\\b', ' ', x).split()))\n",
    "print(\"Удалены отдельно стоящие символы 'aa', 'AA', 'ii', 'II'\")"
   ]
  },
  {
   "cell_type": "code",
   "execution_count": 4,
   "metadata": {},
   "outputs": [],
   "source": [
    "# Лематизируем сообщения\n",
    "lemmatizer = WordNetLemmatizer()\n",
    "\n",
    "df['text_reg_lem'] = df['text_reg'].apply(\n",
    "    lambda x: lemmatizer.lemmatize(x))"
   ]
  },
  {
   "cell_type": "code",
   "execution_count": 6,
   "metadata": {},
   "outputs": [
    {
     "name": "stdout",
     "output_type": "stream",
     "text": [
      "Слова в каждом сообщении посчитаны\n",
      "Средняя длинна слова в каждом сообщении найдена\n"
     ]
    }
   ],
   "source": [
    "# Посчитаем кол-во слов в сообщениях\n",
    "df['length'] = df['text_reg_lem'].apply(lambda x: len(x.split()))\n",
    "print('Слова в каждом сообщении посчитаны')\n",
    "\n",
    "# найдем среднюю длинну слова в сообщениях(кол-во букв делим на кол-во слов)\n",
    "df['length_word_avg'] = df['text_reg_lem'].apply(\n",
    "    lambda x: len(''.join(x.split()))) / df['length']\n",
    "print('Средняя длинна слова в каждом сообщении найдена')"
   ]
  },
  {
   "cell_type": "code",
   "execution_count": 7,
   "metadata": {},
   "outputs": [],
   "source": [
    "# Проверим наличие сообщений с нулевой длинной\n",
    "df.loc[df['length']==0].head()\n",
    "# Удалим их\n",
    "df = df.loc[df['length']>0]"
   ]
  },
  {
   "cell_type": "code",
   "execution_count": 8,
   "metadata": {},
   "outputs": [],
   "source": [
    "# После удаления сообщений нулевой длинны можно добавить еще один признак\n",
    "# отношение длинны исходного текста к очищенному тексту\n",
    "df['rang_sent'] = df.apply(lambda x: len(x['text']) / len(x['text_reg_lem']), axis=1)"
   ]
  },
  {
   "cell_type": "markdown",
   "metadata": {},
   "source": [
    "Далее создадим функцию отображения боксплотов и удаления аномалий в новых признаках ***length***, ***length_word_avg*** и ***rang_sent***"
   ]
  },
  {
   "cell_type": "code",
   "execution_count": 9,
   "metadata": {},
   "outputs": [],
   "source": [
    "# Функция отображения боксплотов\n",
    "def show_boxplot(data, column='all'):\n",
    "    np.warnings.filterwarnings('ignore', category=np.VisibleDeprecationWarning) \n",
    "\n",
    "    if column in ['length_word_avg','all']:\n",
    "        ax = data[['toxic', 'length_word_avg']].boxplot(vert=False, by='toxic', figsize=(12, 2))\n",
    "        ax.set_xlabel('Средняя длинна слова в сообщении length_word_avg')\n",
    "        ax.set_title('')\n",
    "    if column in ['rang_sent','all']:\n",
    "        ax = data[['toxic', 'rang_sent']].boxplot(vert=False, by='toxic', figsize=(12, 2))\n",
    "        ax.set_xlabel('Отношение исходного сообщения к очищенному rang_sent')\n",
    "        ax.set_title('')\n",
    "    if column in ['length','all']:\n",
    "        ax = data[['toxic', 'length']].boxplot(vert=False, by='toxic', figsize=(12, 2))\n",
    "        ax.set_xlabel('Длинна сообщения length')\n",
    "        ax.set_title('')"
   ]
  },
  {
   "cell_type": "code",
   "execution_count": 10,
   "metadata": {},
   "outputs": [],
   "source": [
    "# Функция удаления аномалий\n",
    "def del_anomaly(data, column, percent=0.75, clear_left_side=False):\n",
    "    perc_lift  = data[column].quantile(1-percent)\n",
    "    perc_right = data[column].quantile(percent)\n",
    "\n",
    "    if percent == 0.75:\n",
    "        iqr = (perc_right - perc_lift)*1.5\n",
    "    else:\n",
    "        iqr = 0\n",
    "\n",
    "    ind  =  (data[column] < perc_right+iqr)\n",
    "    if clear_left_side:\n",
    "        ind  = (ind & (data[column] > perc_lift-iqr))\n",
    "\n",
    "    return data.loc[ind], data.loc[~ind]"
   ]
  },
  {
   "cell_type": "code",
   "execution_count": 11,
   "metadata": {},
   "outputs": [
    {
     "data": {
      "image/png": "[encoded data removed]",
      "text/plain": [
       "<Figure size 864x144 with 1 Axes>"
      ]
     },
     "metadata": {
      "needs_background": "light"
     },
     "output_type": "display_data"
    },
    {
     "data": {
      "image/png": "[encoded data removed]",
      "text/plain": [
       "<Figure size 864x144 with 1 Axes>"
      ]
     },
     "metadata": {
      "needs_background": "light"
     },
     "output_type": "display_data"
    },
    {
     "data": {
      "image/png": "[encoded data removed]",
      "text/plain": [
       "<Figure size 864x144 with 1 Axes>"
      ]
     },
     "metadata": {
      "needs_background": "light"
     },
     "output_type": "display_data"
    }
   ],
   "source": [
    "# Взглянем на length_word_avg, rang_sent, length\n",
    "show_boxplot(df)"
   ]
  },
  {
   "cell_type": "markdown",
   "metadata": {},
   "source": [
    "Видим что все распределения имеют большие выбросы. Воспользуемся функцией del_anomaly для их удаления."
   ]
  },
  {
   "cell_type": "code",
   "execution_count": 12,
   "metadata": {},
   "outputs": [
    {
     "data": {
      "image/png": "[encoded data removed]",
      "text/plain": [
       "<Figure size 864x144 with 1 Axes>"
      ]
     },
     "metadata": {
      "needs_background": "light"
     },
     "output_type": "display_data"
    },
    {
     "data": {
      "image/png": "[encoded data removed]",
      "text/plain": [
       "<Figure size 864x144 with 1 Axes>"
      ]
     },
     "metadata": {
      "needs_background": "light"
     },
     "output_type": "display_data"
    },
    {
     "data": {
      "image/png": "[encoded data removed]",
      "text/plain": [
       "<Figure size 864x144 with 1 Axes>"
      ]
     },
     "metadata": {
      "needs_background": "light"
     },
     "output_type": "display_data"
    }
   ],
   "source": [
    "# Удалим сообщения с аномально длинными словами в сообщении\n",
    "df_clean = pd.concat([del_anomaly(df.loc[df['toxic']==1], 'length_word_avg')[0],\n",
    "                      del_anomaly(df.loc[df['toxic']==0], 'length_word_avg')[0]])\n",
    "# Удалим сообщения с высоким значением rang_sent (отношение длинны исходных сообщений к очищенным)\n",
    "df_clean = pd.concat([del_anomaly(df_clean.loc[df_clean['toxic']==1], 'rang_sent')[0],\n",
    "                      del_anomaly(df_clean.loc[df_clean['toxic']==0], 'rang_sent')[0]])\n",
    "# Удалим очень длинные сообщения\n",
    "df_clean = pd.concat([del_anomaly(df_clean.loc[df_clean['toxic']==1], 'length')[0],\n",
    "                      del_anomaly(df_clean.loc[df_clean['toxic']==0], 'length')[0]])\n",
    "# Посмотрим что получилось\n",
    "show_boxplot(df_clean)"
   ]
  },
  {
   "cell_type": "markdown",
   "metadata": {},
   "source": [
    "После удаления явно мусорных сообщений распределения выглядят намного лучше. Видим что среднее количество букв в словах примерно равно 4-5, средняя длинна сообщений примерно 25-30 слов, и что исходное сообщение в среднем на 3% состоит из смайликов и прочих знаков не входящих в алфавит."
   ]
  },
  {
   "cell_type": "markdown",
   "metadata": {},
   "source": [
    "# 2. Обучение"
   ]
  },
  {
   "cell_type": "markdown",
   "metadata": {},
   "source": [
    "### TF-IDF"
   ]
  },
  {
   "cell_type": "markdown",
   "metadata": {},
   "source": [
    "Вычислим TF-IDF для корпуса текстов. Для этого воспользуемся классом TfidfVectorizer(). Перед тем как считать TF-IDF загрузим стоп слова и подготовим словарь ***vocab***, для того что бы ускорить процесс создания векторов."
   ]
  },
  {
   "cell_type": "code",
   "execution_count": 13,
   "metadata": {},
   "outputs": [],
   "source": [
    "# запустим таймер\n",
    "start = time.time()"
   ]
  },
  {
   "cell_type": "code",
   "execution_count": 14,
   "metadata": {},
   "outputs": [
    {
     "name": "stderr",
     "output_type": "stream",
     "text": [
      "[nltk_data] Downloading package stopwords to /home/jovyan/nltk_data...\n",
      "[nltk_data]   Package stopwords is already up-to-date!\n"
     ]
    }
   ],
   "source": [
    "# Загрузим стоп слова\n",
    "nltk.download('stopwords')\n",
    "stopwords = set(nltk_stopwords.words('english'))"
   ]
  },
  {
   "cell_type": "code",
   "execution_count": 15,
   "metadata": {},
   "outputs": [
    {
     "data": {
      "text/plain": [
       "(128090, 116941)"
      ]
     },
     "execution_count": 15,
     "metadata": {},
     "output_type": "execute_result"
    }
   ],
   "source": [
    "# преобразуем корпус текстов в мешок слов, обратимся к классу CountVectorizer()\n",
    "# Создадим счётчик\n",
    "count_vect = CountVectorizer(stop_words=stopwords)\n",
    "# Создадим корпус из всех сообщений\n",
    "corpus = list(df_clean['text_reg_lem'])\n",
    "# посчитаем количество слов в каждом сообщении\n",
    "n_gramm_toxic  = count_vect.fit_transform(corpus)\n",
    "n_gramm_toxic.shape"
   ]
  },
  {
   "cell_type": "code",
   "execution_count": 16,
   "metadata": {},
   "outputs": [],
   "source": [
    "# посчитаем количество слов в корпусе, проссумируем все n-граммы\n",
    "vocab = np.zeros((1,n_gramm_toxic.shape[1]))\n",
    "for i in range(0, n_gramm_toxic.shape[0]):\n",
    "    vocab += n_gramm_toxic[i].toarray()[0]"
   ]
  },
  {
   "cell_type": "code",
   "execution_count": 17,
   "metadata": {},
   "outputs": [
    {
     "name": "stdout",
     "output_type": "stream",
     "text": [
      "Кол-во слов в словаре vocab: 41210\n"
     ]
    }
   ],
   "source": [
    "# Выделим слова которые втречаются более двух раз во всем корпусе\n",
    "vocab = pd.Series(count_vect.get_feature_names())[(vocab[0]>2)]\n",
    "print('Кол-во слов в словаре vocab:',len(vocab))"
   ]
  },
  {
   "cell_type": "code",
   "execution_count": 18,
   "metadata": {},
   "outputs": [],
   "source": [
    "# Разобьем датафрейм на тренировочные и тестовые данные\n",
    "X_train, X_test, y_train, y_test = train_test_split(\n",
    "    df_clean['text_reg_lem'], df_clean['toxic'], test_size=0.3, random_state=SEED)"
   ]
  },
  {
   "cell_type": "code",
   "execution_count": 19,
   "metadata": {},
   "outputs": [
    {
     "name": "stdout",
     "output_type": "stream",
     "text": [
      "Размер tf_idf_train: (89663, 41210)\n",
      "Размер tf_idf_test: (38427, 41210)\n"
     ]
    }
   ],
   "source": [
    "# Вычислим TF-IDF для тренировочных и тестовых данных\n",
    "count_tf_idf = TfidfVectorizer(vocabulary=vocab,\n",
    "                               stop_words=stopwords)\n",
    "tf_idf_train = count_tf_idf.fit_transform(X_train)\n",
    "tf_idf_test  = count_tf_idf.transform(X_test)\n",
    "\n",
    "print('Размер tf_idf_train:',tf_idf_train.shape)\n",
    "print('Размер tf_idf_test:',tf_idf_test.shape)"
   ]
  },
  {
   "cell_type": "code",
   "execution_count": 20,
   "metadata": {},
   "outputs": [],
   "source": [
    "# Создадим и обучим логистическую регрессию. Предскажем токсичность сообщения\n",
    "model_log = LogisticRegression(max_iter=1000000, class_weight='balanced', solver='lbfgs')\n",
    "model_log.fit(tf_idf_train, y_train)\n",
    "predicted = model_log.predict(tf_idf_test)"
   ]
  },
  {
   "cell_type": "code",
   "execution_count": 21,
   "metadata": {},
   "outputs": [
    {
     "data": {
      "text/plain": [
       "array([[32971,  1545],\n",
       "       [  587,  3324]])"
      ]
     },
     "metadata": {},
     "output_type": "display_data"
    },
    {
     "data": {
      "text/plain": [
       "0.7571753986332572"
      ]
     },
     "metadata": {},
     "output_type": "display_data"
    }
   ],
   "source": [
    "# Посмотрим на метрику\n",
    "display(confusion_matrix(y_test, predicted))\n",
    "display(        f1_score(y_test, predicted))"
   ]
  },
  {
   "cell_type": "code",
   "execution_count": 22,
   "metadata": {},
   "outputs": [],
   "source": [
    "# Вычислим итоговой время\n",
    "end = time.time()\n",
    "total_time = end - start"
   ]
  },
  {
   "cell_type": "code",
   "execution_count": 23,
   "metadata": {},
   "outputs": [],
   "source": [
    "# Создадим фрейм куда будем записывать итоговые результаты\n",
    "result = pd.DataFrame(columns=['F1', 'Время', 'Кол-во сообщений', 'сообщений в секунду'],\n",
    "                      index=['TF-IDF', 'BERT', 'better-profanity'])"
   ]
  },
  {
   "cell_type": "code",
   "execution_count": 24,
   "metadata": {},
   "outputs": [],
   "source": [
    "# Запишем результаты\n",
    "result.loc['TF-IDF'] = [f1_score(y_test, predicted),total_time,len(df_clean),len(df_clean)/total_time]"
   ]
  },
  {
   "cell_type": "markdown",
   "metadata": {},
   "source": [
    "### BERT"
   ]
  },
  {
   "cell_type": "markdown",
   "metadata": {},
   "source": [
    "Классифицируем сообщения с помощью предобученой нейронной сети BERT"
   ]
  },
  {
   "cell_type": "code",
   "execution_count": null,
   "metadata": {},
   "outputs": [],
   "source": []
  },
  {
   "cell_type": "code",
   "execution_count": 25,
   "metadata": {},
   "outputs": [],
   "source": [
    "# запустим таймер\n",
    "start = time.time()"
   ]
  },
  {
   "cell_type": "code",
   "execution_count": 26,
   "metadata": {},
   "outputs": [
    {
     "data": {
      "application/vnd.jupyter.widget-view+json": {
       "model_id": "1779923ad85c463c92f9e8cbcc4ffb89",
       "version_major": 2,
       "version_minor": 0
      },
      "text/plain": [
       "HBox(children=(HTML(value='Downloading'), FloatProgress(value=0.0, max=213450.0), HTML(value='')))"
      ]
     },
     "metadata": {},
     "output_type": "display_data"
    },
    {
     "name": "stdout",
     "output_type": "stream",
     "text": [
      "\n"
     ]
    },
    {
     "data": {
      "application/vnd.jupyter.widget-view+json": {
       "model_id": "6624b001679448e88941668e08727aa9",
       "version_major": 2,
       "version_minor": 0
      },
      "text/plain": [
       "HBox(children=(HTML(value='Downloading'), FloatProgress(value=0.0, max=433.0), HTML(value='')))"
      ]
     },
     "metadata": {},
     "output_type": "display_data"
    },
    {
     "name": "stdout",
     "output_type": "stream",
     "text": [
      "\n"
     ]
    },
    {
     "data": {
      "application/vnd.jupyter.widget-view+json": {
       "model_id": "387974b2b74841489616892d0dd12efa",
       "version_major": 2,
       "version_minor": 0
      },
      "text/plain": [
       "HBox(children=(HTML(value='Downloading'), FloatProgress(value=0.0, max=435779157.0), HTML(value='')))"
      ]
     },
     "metadata": {},
     "output_type": "display_data"
    },
    {
     "name": "stdout",
     "output_type": "stream",
     "text": [
      "\n"
     ]
    }
   ],
   "source": [
    "# инициализируем предобученную модель 'bert-base-cased'\n",
    "tokenizer = BertTokenizer.from_pretrained('bert-base-cased')\n",
    "model     = BertModel.from_pretrained(\"bert-base-cased\")"
   ]
  },
  {
   "cell_type": "code",
   "execution_count": 27,
   "metadata": {},
   "outputs": [],
   "source": [
    "# Т.к. Bert работает не прилично долго, обрежем наш датафрейм.\n",
    "# Ограничимся кол-вом сообщений 1200 и кол-вом слов в сообщении 20\n",
    "MAX_LEN = 20\n",
    "SAMP    = 1200"
   ]
  },
  {
   "cell_type": "code",
   "execution_count": 28,
   "metadata": {},
   "outputs": [
    {
     "name": "stdout",
     "output_type": "stream",
     "text": [
      "<class 'pandas.core.frame.DataFrame'>\n",
      "Int64Index: 34147 entries, 6 to 159556\n",
      "Data columns (total 2 columns):\n",
      "text_reg    34147 non-null object\n",
      "toxic       34147 non-null int64\n",
      "dtypes: int64(1), object(1)\n",
      "memory usage: 800.3+ KB\n"
     ]
    }
   ],
   "source": [
    "# Создадим укороченный фрейм для более быстрой токенизации сообщений.\n",
    "# Возьмем сообщения обработанные только регулярками(не лемматизированные)\n",
    "df_samp = df_clean.loc[df_clean['length']<MAX_LEN][['text_reg','toxic']]\n",
    "df_samp.info()"
   ]
  },
  {
   "cell_type": "code",
   "execution_count": 29,
   "metadata": {
    "scrolled": true
   },
   "outputs": [],
   "source": [
    "# Токенизируем сообщения\n",
    "df_samp['tokenized'] = df_samp['text_reg'].apply(\n",
    "    lambda x: tokenizer.encode(text=x, add_special_tokens=True))"
   ]
  },
  {
   "cell_type": "code",
   "execution_count": 30,
   "metadata": {},
   "outputs": [
    {
     "name": "stdout",
     "output_type": "stream",
     "text": [
      "Максимальная длинна length_token: 68\n"
     ]
    }
   ],
   "source": [
    "# Посчитаем длинну токенов\n",
    "df_samp['length_token'] = df_samp['tokenized'].apply(lambda x: len(x))\n",
    "print('Максимальная длинна length_token:', df_samp['length_token'].max())"
   ]
  },
  {
   "cell_type": "code",
   "execution_count": 31,
   "metadata": {
    "scrolled": true
   },
   "outputs": [
    {
     "name": "stdout",
     "output_type": "stream",
     "text": [
      "<class 'pandas.core.frame.DataFrame'>\n",
      "RangeIndex: 1200 entries, 0 to 1199\n",
      "Data columns (total 4 columns):\n",
      "text_reg        1200 non-null object\n",
      "toxic           1200 non-null int64\n",
      "tokenized       1200 non-null object\n",
      "length_token    1200 non-null int64\n",
      "dtypes: int64(2), object(2)\n",
      "memory usage: 37.6+ KB\n"
     ]
    }
   ],
   "source": [
    "# Создадим семпл из 1200 записей с количеством токенов не более 20 в сообщении\n",
    "df_samp = df_samp.loc[df_samp['length_token']<=MAX_LEN].sample(SAMP, random_state=SEED).reset_index(drop=True)\n",
    "df_samp.info()"
   ]
  },
  {
   "cell_type": "code",
   "execution_count": 32,
   "metadata": {},
   "outputs": [
    {
     "data": {
      "text/plain": [
       "array([[  101,  1135,  1336, ...,     0,     0,     0],\n",
       "       [  101,  1714,  4055, ...,     0,     0,     0],\n",
       "       [  101,  1135,  1156, ..., 11116,   102,     0],\n",
       "       ...,\n",
       "       [  101, 12105,  2266, ...,     0,     0,     0],\n",
       "       [  101,  2814,  1133, ...,     0,     0,     0],\n",
       "       [  101, 17035,   117, ...,   119,   102,     0]])"
      ]
     },
     "execution_count": 32,
     "metadata": {},
     "output_type": "execute_result"
    }
   ],
   "source": [
    "# Применим метод padding, чтобы после токенизации длины исходных текстов в корпусе были равными\n",
    "padded = np.array([i + [0]*(MAX_LEN - len(i)) for i in df_samp['tokenized']])\n",
    "padded"
   ]
  },
  {
   "cell_type": "code",
   "execution_count": 33,
   "metadata": {},
   "outputs": [
    {
     "data": {
      "text/plain": [
       "array([[1, 1, 1, ..., 0, 0, 0],\n",
       "       [1, 1, 1, ..., 0, 0, 0],\n",
       "       [1, 1, 1, ..., 1, 1, 0],\n",
       "       ...,\n",
       "       [1, 1, 1, ..., 0, 0, 0],\n",
       "       [1, 1, 1, ..., 0, 0, 0],\n",
       "       [1, 1, 1, ..., 1, 1, 0]])"
      ]
     },
     "execution_count": 33,
     "metadata": {},
     "output_type": "execute_result"
    }
   ],
   "source": [
    "# создадим маску для действительно важных токенов, то есть укажем нулевые и не нулевые значения\n",
    "attention_mask = np.where(padded != 0, 1, 0)\n",
    "attention_mask"
   ]
  },
  {
   "cell_type": "code",
   "execution_count": 34,
   "metadata": {
    "scrolled": true
   },
   "outputs": [
    {
     "data": {
      "application/vnd.jupyter.widget-view+json": {
       "model_id": "c4aaaee5a90c424890d0075b40a47e1e",
       "version_major": 2,
       "version_minor": 0
      },
      "text/plain": [
       "HBox(children=(HTML(value=''), FloatProgress(value=0.0, max=12.0), HTML(value='')))"
      ]
     },
     "metadata": {},
     "output_type": "display_data"
    },
    {
     "name": "stdout",
     "output_type": "stream",
     "text": [
      "batch номер 0 существует\n",
      "batch номер 1 существует\n",
      "batch номер 2 существует\n",
      "batch номер 3 существует\n",
      "batch номер 4 существует\n",
      "batch номер 5 существует\n",
      "batch номер 6 существует\n",
      "batch номер 7 существует\n",
      "batch номер 8 существует\n",
      "batch номер 9 существует\n",
      "batch номер 10 существует\n",
      "batch номер 11 существует\n",
      "\n"
     ]
    }
   ],
   "source": [
    "# преобразуем текст в эмбеддинги\n",
    "batch_size = 100\n",
    "for i in notebook.tqdm(range(padded.shape[0] // batch_size)):\n",
    "    # сформируем название файла\n",
    "    FILE = 'text_project/'+str(i)+'_batch_embeddings_'+str(MAX_LEN)+'_'+str(SAMP)\n",
    "    # проверим его наличие на диске\n",
    "    if os.path.exists(FILE):\n",
    "        print(f'batch номер {i} существует')\n",
    "    else:\n",
    "        # Преобразуем батчи в формат тензоров\n",
    "        batch                = torch.LongTensor(padded[batch_size*i:batch_size*(i+1)]) \n",
    "        attention_mask_batch = torch.LongTensor(attention_mask[batch_size*i:batch_size*(i+1)])\n",
    "\n",
    "        with torch.no_grad():\n",
    "            # получим эмбеддинги для батча\n",
    "            batch_embeddings = model(batch, attention_mask=attention_mask_batch)\n",
    "        \n",
    "        # Из полученного тензора извлечём нужные элементы и положим в датафрейм\n",
    "        batch_embeddings = pd.DataFrame(batch_embeddings[0][:,0,:].numpy(),\n",
    "                                        index=range(batch_size*i,batch_size*(i+1)))\n",
    "        # Сохраним полученные результаты на диск\n",
    "        batch_embeddings.to_csv(FILE)"
   ]
  },
  {
   "cell_type": "code",
   "execution_count": 35,
   "metadata": {},
   "outputs": [
    {
     "data": {
      "application/vnd.jupyter.widget-view+json": {
       "model_id": "66dca2e4d20a417b8a8c2dd5b65bf97b",
       "version_major": 2,
       "version_minor": 0
      },
      "text/plain": [
       "HBox(children=(HTML(value=''), FloatProgress(value=0.0, max=12.0), HTML(value='')))"
      ]
     },
     "metadata": {},
     "output_type": "display_data"
    },
    {
     "name": "stdout",
     "output_type": "stream",
     "text": [
      "\n"
     ]
    }
   ],
   "source": [
    "# Сформируем фичи из данных сохраненных на диске\n",
    "features = pd.DataFrame()\n",
    "for i in notebook.tqdm(range(padded.shape[0] // batch_size)):\n",
    "    FILE = 'text_project/'+str(i)+'_batch_embeddings_'+str(MAX_LEN)+'_'+str(SAMP)\n",
    "    try:\n",
    "        batch_embeddings = pd.read_csv(FILE,index_col=0)\n",
    "        features = pd.concat([features,batch_embeddings])\n",
    "    except:\n",
    "        print(f'batch номер {i} прочитать не удалось')"
   ]
  },
  {
   "cell_type": "code",
   "execution_count": 36,
   "metadata": {},
   "outputs": [
    {
     "data": {
      "text/html": [
       "<div>\n",
       "<style scoped>\n",
       "    .dataframe tbody tr th:only-of-type {\n",
       "        vertical-align: middle;\n",
       "    }\n",
       "\n",
       "    .dataframe tbody tr th {\n",
       "        vertical-align: top;\n",
       "    }\n",
       "\n",
       "    .dataframe thead th {\n",
       "        text-align: right;\n",
       "    }\n",
       "</style>\n",
       "<table border=\"1\" class=\"dataframe\">\n",
       "  <thead>\n",
       "    <tr style=\"text-align: right;\">\n",
       "      <th></th>\n",
       "      <th>0</th>\n",
       "      <th>1</th>\n",
       "      <th>2</th>\n",
       "      <th>3</th>\n",
       "      <th>4</th>\n",
       "      <th>5</th>\n",
       "      <th>6</th>\n",
       "      <th>7</th>\n",
       "      <th>8</th>\n",
       "      <th>9</th>\n",
       "      <th>...</th>\n",
       "      <th>758</th>\n",
       "      <th>759</th>\n",
       "      <th>760</th>\n",
       "      <th>761</th>\n",
       "      <th>762</th>\n",
       "      <th>763</th>\n",
       "      <th>764</th>\n",
       "      <th>765</th>\n",
       "      <th>766</th>\n",
       "      <th>767</th>\n",
       "    </tr>\n",
       "  </thead>\n",
       "  <tbody>\n",
       "    <tr>\n",
       "      <td>0</td>\n",
       "      <td>0.224470</td>\n",
       "      <td>-0.078813</td>\n",
       "      <td>-0.237825</td>\n",
       "      <td>-0.210910</td>\n",
       "      <td>-0.117921</td>\n",
       "      <td>-0.109113</td>\n",
       "      <td>0.117948</td>\n",
       "      <td>-0.324353</td>\n",
       "      <td>0.249993</td>\n",
       "      <td>-1.354110</td>\n",
       "      <td>...</td>\n",
       "      <td>0.134500</td>\n",
       "      <td>0.033655</td>\n",
       "      <td>-0.226989</td>\n",
       "      <td>-0.167254</td>\n",
       "      <td>0.077891</td>\n",
       "      <td>0.471322</td>\n",
       "      <td>-0.190089</td>\n",
       "      <td>-0.085309</td>\n",
       "      <td>0.263145</td>\n",
       "      <td>0.245470</td>\n",
       "    </tr>\n",
       "    <tr>\n",
       "      <td>1</td>\n",
       "      <td>0.502043</td>\n",
       "      <td>0.224226</td>\n",
       "      <td>0.062600</td>\n",
       "      <td>-0.345038</td>\n",
       "      <td>-0.196127</td>\n",
       "      <td>0.031848</td>\n",
       "      <td>0.382606</td>\n",
       "      <td>-0.119130</td>\n",
       "      <td>-0.044952</td>\n",
       "      <td>-1.108494</td>\n",
       "      <td>...</td>\n",
       "      <td>0.198867</td>\n",
       "      <td>0.023494</td>\n",
       "      <td>-0.074363</td>\n",
       "      <td>-0.432457</td>\n",
       "      <td>-0.075769</td>\n",
       "      <td>0.191576</td>\n",
       "      <td>-0.123027</td>\n",
       "      <td>0.033523</td>\n",
       "      <td>0.367351</td>\n",
       "      <td>0.123113</td>\n",
       "    </tr>\n",
       "    <tr>\n",
       "      <td>2</td>\n",
       "      <td>0.541353</td>\n",
       "      <td>0.230933</td>\n",
       "      <td>0.059292</td>\n",
       "      <td>-0.019696</td>\n",
       "      <td>-0.118712</td>\n",
       "      <td>0.128101</td>\n",
       "      <td>0.163292</td>\n",
       "      <td>0.009640</td>\n",
       "      <td>0.022919</td>\n",
       "      <td>-1.084911</td>\n",
       "      <td>...</td>\n",
       "      <td>0.069696</td>\n",
       "      <td>0.103773</td>\n",
       "      <td>-0.165122</td>\n",
       "      <td>-0.157391</td>\n",
       "      <td>0.351432</td>\n",
       "      <td>0.032904</td>\n",
       "      <td>0.183194</td>\n",
       "      <td>-0.445148</td>\n",
       "      <td>0.221384</td>\n",
       "      <td>-0.176315</td>\n",
       "    </tr>\n",
       "    <tr>\n",
       "      <td>3</td>\n",
       "      <td>0.555767</td>\n",
       "      <td>0.263704</td>\n",
       "      <td>0.285267</td>\n",
       "      <td>-0.111135</td>\n",
       "      <td>0.007964</td>\n",
       "      <td>-0.004756</td>\n",
       "      <td>0.134957</td>\n",
       "      <td>-0.140002</td>\n",
       "      <td>-0.144645</td>\n",
       "      <td>-1.081590</td>\n",
       "      <td>...</td>\n",
       "      <td>0.101441</td>\n",
       "      <td>0.199684</td>\n",
       "      <td>-0.029401</td>\n",
       "      <td>-0.160185</td>\n",
       "      <td>0.102718</td>\n",
       "      <td>0.011862</td>\n",
       "      <td>0.157427</td>\n",
       "      <td>-0.202056</td>\n",
       "      <td>0.338408</td>\n",
       "      <td>0.118458</td>\n",
       "    </tr>\n",
       "    <tr>\n",
       "      <td>4</td>\n",
       "      <td>0.368619</td>\n",
       "      <td>0.320599</td>\n",
       "      <td>-0.045075</td>\n",
       "      <td>-0.254166</td>\n",
       "      <td>-0.182888</td>\n",
       "      <td>-0.066047</td>\n",
       "      <td>0.475035</td>\n",
       "      <td>-0.125288</td>\n",
       "      <td>-0.010496</td>\n",
       "      <td>-1.095179</td>\n",
       "      <td>...</td>\n",
       "      <td>0.226233</td>\n",
       "      <td>0.176163</td>\n",
       "      <td>-0.213128</td>\n",
       "      <td>-0.101869</td>\n",
       "      <td>-0.030485</td>\n",
       "      <td>0.172609</td>\n",
       "      <td>0.101096</td>\n",
       "      <td>-0.173483</td>\n",
       "      <td>0.370377</td>\n",
       "      <td>0.245178</td>\n",
       "    </tr>\n",
       "  </tbody>\n",
       "</table>\n",
       "<p>5 rows × 768 columns</p>\n",
       "</div>"
      ],
      "text/plain": [
       "          0         1         2         3         4         5         6  \\\n",
       "0  0.224470 -0.078813 -0.237825 -0.210910 -0.117921 -0.109113  0.117948   \n",
       "1  0.502043  0.224226  0.062600 -0.345038 -0.196127  0.031848  0.382606   \n",
       "2  0.541353  0.230933  0.059292 -0.019696 -0.118712  0.128101  0.163292   \n",
       "3  0.555767  0.263704  0.285267 -0.111135  0.007964 -0.004756  0.134957   \n",
       "4  0.368619  0.320599 -0.045075 -0.254166 -0.182888 -0.066047  0.475035   \n",
       "\n",
       "          7         8         9  ...       758       759       760       761  \\\n",
       "0 -0.324353  0.249993 -1.354110  ...  0.134500  0.033655 -0.226989 -0.167254   \n",
       "1 -0.119130 -0.044952 -1.108494  ...  0.198867  0.023494 -0.074363 -0.432457   \n",
       "2  0.009640  0.022919 -1.084911  ...  0.069696  0.103773 -0.165122 -0.157391   \n",
       "3 -0.140002 -0.144645 -1.081590  ...  0.101441  0.199684 -0.029401 -0.160185   \n",
       "4 -0.125288 -0.010496 -1.095179  ...  0.226233  0.176163 -0.213128 -0.101869   \n",
       "\n",
       "        762       763       764       765       766       767  \n",
       "0  0.077891  0.471322 -0.190089 -0.085309  0.263145  0.245470  \n",
       "1 -0.075769  0.191576 -0.123027  0.033523  0.367351  0.123113  \n",
       "2  0.351432  0.032904  0.183194 -0.445148  0.221384 -0.176315  \n",
       "3  0.102718  0.011862  0.157427 -0.202056  0.338408  0.118458  \n",
       "4 -0.030485  0.172609  0.101096 -0.173483  0.370377  0.245178  \n",
       "\n",
       "[5 rows x 768 columns]"
      ]
     },
     "execution_count": 36,
     "metadata": {},
     "output_type": "execute_result"
    }
   ],
   "source": [
    "# Посмотрим на фичи\n",
    "features.head()"
   ]
  },
  {
   "cell_type": "code",
   "execution_count": 37,
   "metadata": {},
   "outputs": [],
   "source": [
    "# разобьем фичи и целевой признак на тренировочные и тестовые выборки\n",
    "X_train, X_test, y_train, y_test = train_test_split(\n",
    "    features, df_samp['toxic'], test_size=0.3, random_state=SEED)"
   ]
  },
  {
   "cell_type": "code",
   "execution_count": 38,
   "metadata": {},
   "outputs": [],
   "source": [
    "# Создадим и обучим логистическую регрессию, предскажем токсичность\n",
    "model_lr = LogisticRegression(max_iter=1000000, class_weight='balanced', solver='lbfgs')\n",
    "model_lr.fit(X_train, y_train)\n",
    "predicted = model_lr.predict(X_test)"
   ]
  },
  {
   "cell_type": "code",
   "execution_count": 39,
   "metadata": {},
   "outputs": [
    {
     "data": {
      "text/plain": [
       "array([[278,  16],\n",
       "       [ 11,  55]])"
      ]
     },
     "metadata": {},
     "output_type": "display_data"
    },
    {
     "data": {
      "text/plain": [
       "0.8029197080291971"
      ]
     },
     "execution_count": 39,
     "metadata": {},
     "output_type": "execute_result"
    }
   ],
   "source": [
    "# Посмотрим на метрики\n",
    "display(confusion_matrix(y_test, predicted))\n",
    "f1_score(y_test, predicted)"
   ]
  },
  {
   "cell_type": "code",
   "execution_count": 40,
   "metadata": {},
   "outputs": [],
   "source": [
    "# Вычислим итоговой время\n",
    "end = time.time()\n",
    "total_time = end - start"
   ]
  },
  {
   "cell_type": "code",
   "execution_count": 41,
   "metadata": {},
   "outputs": [],
   "source": [
    "# Запишем результаты\n",
    "result.loc['BERT'] = [f1_score(y_test, predicted),total_time,SAMP,SAMP/total_time]"
   ]
  },
  {
   "cell_type": "markdown",
   "metadata": {},
   "source": [
    "### better-profanity"
   ]
  },
  {
   "cell_type": "markdown",
   "metadata": {},
   "source": [
    "На просторах интернета найдена библиотека better-profanity. Попробуем предсказать токсичность сообщений с помощью нее"
   ]
  },
  {
   "cell_type": "code",
   "execution_count": 42,
   "metadata": {},
   "outputs": [],
   "source": [
    "# запустим таймер\n",
    "start = time.time()"
   ]
  },
  {
   "cell_type": "code",
   "execution_count": 43,
   "metadata": {},
   "outputs": [
    {
     "name": "stdout",
     "output_type": "stream",
     "text": [
      "Defaulting to user installation because normal site-packages is not writeable\n",
      "Collecting better_profanity\n",
      "  Downloading better_profanity-0.7.0-py3-none-any.whl (46 kB)\n",
      "\u001b[K     |████████████████████████████████| 46 kB 895 kB/s eta 0:00:011\n",
      "\u001b[?25hInstalling collected packages: better-profanity\n",
      "Successfully installed better-profanity-0.7.0\n"
     ]
    }
   ],
   "source": [
    "# Установим и импортируем библиотеку\n",
    "!pip install better_profanity\n",
    "from better_profanity import profanity"
   ]
  },
  {
   "cell_type": "code",
   "execution_count": 44,
   "metadata": {},
   "outputs": [],
   "source": [
    "# предскажем токсичность\n",
    "df_samp['profanity'] = df_samp['text_reg'].apply(lambda x: 1 if profanity.contains_profanity(x) else 0)"
   ]
  },
  {
   "cell_type": "code",
   "execution_count": 45,
   "metadata": {},
   "outputs": [
    {
     "data": {
      "text/plain": [
       "array([[985,  54],\n",
       "       [ 17, 144]])"
      ]
     },
     "metadata": {},
     "output_type": "display_data"
    },
    {
     "data": {
      "text/plain": [
       "0.8022284122562674"
      ]
     },
     "metadata": {},
     "output_type": "display_data"
    }
   ],
   "source": [
    "# посмотрим на метрику\n",
    "display(confusion_matrix(df_samp['profanity'], df_samp['toxic']))\n",
    "display(        f1_score(df_samp['profanity'], df_samp['toxic']))"
   ]
  },
  {
   "cell_type": "code",
   "execution_count": 46,
   "metadata": {},
   "outputs": [],
   "source": [
    "# Вычислим итоговой время\n",
    "end = time.time()\n",
    "total_time = end - start"
   ]
  },
  {
   "cell_type": "code",
   "execution_count": 47,
   "metadata": {},
   "outputs": [],
   "source": [
    "# Запишем результаты\n",
    "result.loc['better-profanity'] = [f1_score(df_samp['profanity'], df_samp['toxic']),total_time,SAMP,SAMP/total_time]"
   ]
  },
  {
   "cell_type": "markdown",
   "metadata": {},
   "source": [
    "# 3. Выводы"
   ]
  },
  {
   "cell_type": "markdown",
   "metadata": {},
   "source": [
    "В данном проекте были классифицированы комментарии на позитивные и негативные. Для этого были обучены модели логистической регрессии на основе TF-IDF и на основе эмбеддингов полученных с помощью неро сети BERT. Так же была применена библиотека **better-profanity**."
   ]
  },
  {
   "cell_type": "code",
   "execution_count": 48,
   "metadata": {},
   "outputs": [
    {
     "data": {
      "text/html": [
       "<div>\n",
       "<style scoped>\n",
       "    .dataframe tbody tr th:only-of-type {\n",
       "        vertical-align: middle;\n",
       "    }\n",
       "\n",
       "    .dataframe tbody tr th {\n",
       "        vertical-align: top;\n",
       "    }\n",
       "\n",
       "    .dataframe thead th {\n",
       "        text-align: right;\n",
       "    }\n",
       "</style>\n",
       "<table border=\"1\" class=\"dataframe\">\n",
       "  <thead>\n",
       "    <tr style=\"text-align: right;\">\n",
       "      <th></th>\n",
       "      <th>F1</th>\n",
       "      <th>Время</th>\n",
       "      <th>Кол-во сообщений</th>\n",
       "      <th>сообщений в секунду</th>\n",
       "    </tr>\n",
       "  </thead>\n",
       "  <tbody>\n",
       "    <tr>\n",
       "      <td>TF-IDF</td>\n",
       "      <td>0.757175</td>\n",
       "      <td>72.0525</td>\n",
       "      <td>128090</td>\n",
       "      <td>1777.73</td>\n",
       "    </tr>\n",
       "    <tr>\n",
       "      <td>BERT</td>\n",
       "      <td>0.80292</td>\n",
       "      <td>265.619</td>\n",
       "      <td>1200</td>\n",
       "      <td>4.51775</td>\n",
       "    </tr>\n",
       "    <tr>\n",
       "      <td>better-profanity</td>\n",
       "      <td>0.802228</td>\n",
       "      <td>55.119</td>\n",
       "      <td>1200</td>\n",
       "      <td>21.7711</td>\n",
       "    </tr>\n",
       "  </tbody>\n",
       "</table>\n",
       "</div>"
      ],
      "text/plain": [
       "                        F1    Время Кол-во сообщений сообщений в секунду\n",
       "TF-IDF            0.757175  72.0525           128090             1777.73\n",
       "BERT               0.80292  265.619             1200             4.51775\n",
       "better-profanity  0.802228   55.119             1200             21.7711"
      ]
     },
     "execution_count": 48,
     "metadata": {},
     "output_type": "execute_result"
    }
   ],
   "source": [
    "result"
   ]
  },
  {
   "cell_type": "markdown",
   "metadata": {},
   "source": [
    "Как видим все модели уложились в метрику качества F1 не меньше 0.75. Однако стоит заметить что модель на основе **TF-IDF** обучалась и предсказывала токсичные сообщения на всем датафрейме, а модель на основе **BERT** и библиотека **better-profanity** на датафрейме из 1200 сообщений с длинной не более 20 слов. Таким образом можно зделать вывод что **TF-IDF** более предпочтительна если есть ограничения в ресурсках и необходима скорость. **BERT** показывает не плохие результаты но работает значительно медленней и требует правильной настройки.\n",
    "\n",
    "PS *Время* и *сообщений в секунду* в данном случае весьма условно т.к. включает в себя не только время обучения модели и предсказания, но и время предобрабтки сообщений(токенизация и пр.)."
   ]
  },
  {
   "cell_type": "markdown",
   "metadata": {},
   "source": [
    "# Чек-лист проверки"
   ]
  },
  {
   "cell_type": "markdown",
   "metadata": {},
   "source": [
    "- [x]  Jupyter Notebook открыт\n",
    "- [x]  Весь код выполняется без ошибок\n",
    "- [x]  Ячейки с кодом расположены в порядке исполнения\n",
    "- [x]  Данные загружены и подготовлены\n",
    "- [x]  Модели обучены\n",
    "- [x]  Значение метрики *F1* не меньше 0.75\n",
    "- [x]  Выводы написаны"
   ]
  }
 ],
 "metadata": {
  "kernelspec": {
   "display_name": "Python 3",
   "language": "python",
   "name": "python3"
  },
  "language_info": {
   "codemirror_mode": {
    "name": "ipython",
    "version": 3
   },
   "file_extension": ".py",
   "mimetype": "text/x-python",
   "name": "python",
   "nbconvert_exporter": "python",
   "pygments_lexer": "ipython3",
   "version": "3.8.7"
  },
  "toc": {
   "base_numbering": 1,
   "nav_menu": {},
   "number_sections": true,
   "sideBar": true,
   "skip_h1_title": false,
   "title_cell": "Table of Contents",
   "title_sidebar": "Contents",
   "toc_cell": false,
   "toc_position": {},
   "toc_section_display": true,
   "toc_window_display": false
  }
 },
 "nbformat": 4,
 "nbformat_minor": 4
}
